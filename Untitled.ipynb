{
 "cells": [
  {
   "cell_type": "code",
   "execution_count": 78,
   "metadata": {},
   "outputs": [],
   "source": [
    "#!/usr/bin/env python3\n",
    "import yaml\n",
    "import matplotlib\n",
    "import matplotlib.pyplot as plt\n",
    "import numpy as np\n",
    "import argparse\n",
    "import math\n",
    "import planningEnv\n",
    "import GridEnv\n",
    "import time\n",
    "from window import *\n",
    "\n",
    "\n",
    "\n",
    "\n"
   ]
  },
  {
   "cell_type": "code",
   "execution_count": 10,
   "metadata": {},
   "outputs": [],
   "source": [
    "with open(\"cbs/input.yaml\") as map_file:\n",
    "    map = yaml.load(map_file, Loader=yaml.FullLoader)\n",
    "\n",
    "with open(\"cbs/output.yaml\") as states_file:\n",
    "    schedule = yaml.load(states_file, Loader=yaml.FullLoader)[\"schedule\"]\n",
    "\n",
    "\n",
    "   #Get the maximum steps in the output solution file\n",
    "max_step = 0\n",
    "for agent_name, trajectories in schedule.items():\n",
    "    max_step = max(max_step, trajectories[-1][\"t\"])\n",
    "\n",
    "def getState(t, d):\n",
    "    idx = 0\n",
    "    while idx < len(d) and d[idx][\"t\"] < t:\n",
    "        idx += 1\n",
    "    if idx == 0:\n",
    "        return np.array([float(d[0][\"x\"]), float(d[0][\"y\"])])\n",
    "    elif idx < len(d):\n",
    "        return np.array([float(d[idx][\"x\"]), float(d[idx][\"y\"])])\n",
    "    else:\n",
    "        return np.array([float(d[-1][\"x\"]), float(d[-1][\"y\"])])\n"
   ]
  },
  {
   "cell_type": "code",
   "execution_count": 11,
   "metadata": {},
   "outputs": [
    {
     "name": "stdout",
     "output_type": "stream",
     "text": [
      "agent0 [{'t': 0, 'x': 0, 'y': 0}, {'t': 1, 'x': 0, 'y': 0}, {'t': 2, 'x': 1, 'y': 0}, {'t': 3, 'x': 2, 'y': 0}]\n",
      "agent1 [{'t': 0, 'x': 2, 'y': 0}, {'t': 1, 'x': 1, 'y': 0}, {'t': 2, 'x': 1, 'y': 1}, {'t': 3, 'x': 1, 'y': 0}, {'t': 4, 'x': 0, 'y': 0}]\n"
     ]
    }
   ],
   "source": [
    "traj = {}\n",
    "poses = {}\n",
    "for agent_name, trajectories in schedule.items():\n",
    "    #poses[agent_name] = getState(2, trajectories)\n",
    "    print(agent_name, trajectories)"
   ]
  },
  {
   "cell_type": "code",
   "execution_count": 24,
   "metadata": {},
   "outputs": [
    {
     "name": "stdout",
     "output_type": "stream",
     "text": [
      "[0, 0]\n",
      "[2, 0]\n"
     ]
    }
   ],
   "source": [
    "agents=map[\"agents\"]\n",
    "for agent in agents:\n",
    "    print(agent[\"start\"])"
   ]
  },
  {
   "cell_type": "code",
   "execution_count": 22,
   "metadata": {},
   "outputs": [
    {
     "data": {
      "text/plain": [
       "'goal'"
      ]
     },
     "execution_count": 22,
     "metadata": {},
     "output_type": "execute_result"
    }
   ],
   "source": [
    "b"
   ]
  },
  {
   "cell_type": "code",
   "execution_count": 26,
   "metadata": {},
   "outputs": [],
   "source": [
    "b=3"
   ]
  },
  {
   "cell_type": "code",
   "execution_count": 30,
   "metadata": {},
   "outputs": [],
   "source": [
    "poses=[np.array([0,1]),np.array([1,1]),np.array([0,0]),np.array([0,1])]"
   ]
  },
  {
   "cell_type": "code",
   "execution_count": 36,
   "metadata": {},
   "outputs": [
    {
     "ename": "ValueError",
     "evalue": "The truth value of an array with more than one element is ambiguous. Use a.any() or a.all()",
     "output_type": "error",
     "traceback": [
      "\u001b[0;31m---------------------------------------------------------------------------\u001b[0m",
      "\u001b[0;31mValueError\u001b[0m                                Traceback (most recent call last)",
      "\u001b[0;32m<ipython-input-36-baa758d699f0>\u001b[0m in \u001b[0;36m<module>\u001b[0;34m\u001b[0m\n\u001b[1;32m      1\u001b[0m \u001b[0ma\u001b[0m \u001b[0;34m=\u001b[0m \u001b[0mnp\u001b[0m\u001b[0;34m.\u001b[0m\u001b[0marray\u001b[0m\u001b[0;34m(\u001b[0m\u001b[0;34m[\u001b[0m\u001b[0;36m0\u001b[0m\u001b[0;34m,\u001b[0m\u001b[0;36m1\u001b[0m\u001b[0;34m]\u001b[0m\u001b[0;34m)\u001b[0m\u001b[0;34m\u001b[0m\u001b[0;34m\u001b[0m\u001b[0m\n\u001b[0;32m----> 2\u001b[0;31m \u001b[0;32mif\u001b[0m \u001b[0ma\u001b[0m\u001b[0;34m.\u001b[0m\u001b[0mall\u001b[0m\u001b[0;34m(\u001b[0m\u001b[0;34m)\u001b[0m \u001b[0;32min\u001b[0m \u001b[0mposes\u001b[0m\u001b[0;34m:\u001b[0m\u001b[0;34m\u001b[0m\u001b[0;34m\u001b[0m\u001b[0m\n\u001b[0m\u001b[1;32m      3\u001b[0m     \u001b[0mprint\u001b[0m\u001b[0;34m(\u001b[0m\u001b[0myes\u001b[0m\u001b[0;34m)\u001b[0m\u001b[0;34m\u001b[0m\u001b[0;34m\u001b[0m\u001b[0m\n",
      "\u001b[0;31mValueError\u001b[0m: The truth value of an array with more than one element is ambiguous. Use a.any() or a.all()"
     ]
    }
   ],
   "source": [
    "a = np.array([0,1])\n",
    "a in poses"
   ]
  },
  {
   "cell_type": "code",
   "execution_count": 41,
   "metadata": {},
   "outputs": [],
   "source": [
    "tmp = [val for val in poses if val in b]"
   ]
  },
  {
   "cell_type": "code",
   "execution_count": 52,
   "metadata": {},
   "outputs": [],
   "source": [
    "from collections import Counter"
   ]
  },
  {
   "cell_type": "code",
   "execution_count": 55,
   "metadata": {},
   "outputs": [],
   "source": [
    "c=Counter([tuple(val) for val in poses ])"
   ]
  },
  {
   "cell_type": "code",
   "execution_count": 57,
   "metadata": {},
   "outputs": [
    {
     "name": "stdout",
     "output_type": "stream",
     "text": [
      "[0 1]\n"
     ]
    },
    {
     "ename": "ValueError",
     "evalue": "The truth value of an array with more than one element is ambiguous. Use a.any() or a.all()",
     "output_type": "error",
     "traceback": [
      "\u001b[0;31m---------------------------------------------------------------------------\u001b[0m",
      "\u001b[0;31mValueError\u001b[0m                                Traceback (most recent call last)",
      "\u001b[0;32m<ipython-input-57-dd1586a5a2dd>\u001b[0m in \u001b[0;36m<module>\u001b[0;34m\u001b[0m\n\u001b[1;32m      1\u001b[0m \u001b[0mposes_t\u001b[0m \u001b[0;34m=\u001b[0m \u001b[0;34m[\u001b[0m\u001b[0mtuple\u001b[0m\u001b[0;34m(\u001b[0m\u001b[0mval\u001b[0m\u001b[0;34m)\u001b[0m \u001b[0;32mfor\u001b[0m \u001b[0mval\u001b[0m \u001b[0;32min\u001b[0m \u001b[0mposes\u001b[0m \u001b[0;34m]\u001b[0m\u001b[0;34m\u001b[0m\u001b[0;34m\u001b[0m\u001b[0m\n\u001b[1;32m      2\u001b[0m \u001b[0;32mfor\u001b[0m \u001b[0mp\u001b[0m \u001b[0;32min\u001b[0m \u001b[0mt\u001b[0m\u001b[0;34m:\u001b[0m\u001b[0;34m\u001b[0m\u001b[0;34m\u001b[0m\u001b[0m\n\u001b[0;32m----> 3\u001b[0;31m     \u001b[0;32mif\u001b[0m \u001b[0mp\u001b[0m \u001b[0;32min\u001b[0m \u001b[0mt\u001b[0m\u001b[0;34m:\u001b[0m\u001b[0;34m\u001b[0m\u001b[0;34m\u001b[0m\u001b[0m\n\u001b[0m\u001b[1;32m      4\u001b[0m         \u001b[0mprint\u001b[0m\u001b[0;34m(\u001b[0m\u001b[0mp\u001b[0m\u001b[0;34m)\u001b[0m\u001b[0;34m\u001b[0m\u001b[0;34m\u001b[0m\u001b[0m\n",
      "\u001b[0;31mValueError\u001b[0m: The truth value of an array with more than one element is ambiguous. Use a.any() or a.all()"
     ]
    }
   ],
   "source": [
    "poses_t = [tuple(val) for val in poses ]\n",
    "for p in poses_t:\n",
    "    if p in poses_t:\n",
    "        print(p)"
   ]
  },
  {
   "cell_type": "code",
   "execution_count": 62,
   "metadata": {},
   "outputs": [
    {
     "data": {
      "text/plain": [
       "dict_items([((0, 1), 2), ((1, 1), 1), ((0, 0), 1)])"
      ]
     },
     "execution_count": 62,
     "metadata": {},
     "output_type": "execute_result"
    }
   ],
   "source": [
    "c.items()"
   ]
  },
  {
   "cell_type": "code",
   "execution_count": 64,
   "metadata": {},
   "outputs": [
    {
     "data": {
      "text/plain": [
       "0"
      ]
     },
     "execution_count": 64,
     "metadata": {},
     "output_type": "execute_result"
    }
   ],
   "source": [
    "min(0,1)"
   ]
  },
  {
   "cell_type": "code",
   "execution_count": 66,
   "metadata": {},
   "outputs": [],
   "source": [
    "img = np.ones(shape=(32,32,3),dtype=np.uint8)*255"
   ]
  },
  {
   "cell_type": "code",
   "execution_count": 70,
   "metadata": {},
   "outputs": [
    {
     "ename": "SyntaxError",
     "evalue": "invalid syntax (<ipython-input-70-41c8f5ff1994>, line 1)",
     "output_type": "error",
     "traceback": [
      "\u001b[0;36m  File \u001b[0;32m\"<ipython-input-70-41c8f5ff1994>\"\u001b[0;36m, line \u001b[0;32m1\u001b[0m\n\u001b[0;31m    img[[1,1],dim=1].shape\u001b[0m\n\u001b[0m                 ^\u001b[0m\n\u001b[0;31mSyntaxError\u001b[0m\u001b[0;31m:\u001b[0m invalid syntax\n"
     ]
    }
   ],
   "source": [
    "img[1,1].shape"
   ]
  },
  {
   "cell_type": "code",
   "execution_count": 74,
   "metadata": {},
   "outputs": [
    {
     "data": {
      "text/plain": [
       "True"
      ]
     },
     "execution_count": 74,
     "metadata": {},
     "output_type": "execute_result"
    }
   ],
   "source": [
    "(img[1,1]==np.array([255,255,255])).all()"
   ]
  },
  {
   "cell_type": "code",
   "execution_count": 73,
   "metadata": {},
   "outputs": [
    {
     "data": {
      "text/plain": [
       "array([ True,  True,  True])"
      ]
     },
     "execution_count": 73,
     "metadata": {},
     "output_type": "execute_result"
    }
   ],
   "source": [
    "np.equal(img[1,1],np.array([255,255,255]))"
   ]
  },
  {
   "cell_type": "code",
   "execution_count": 75,
   "metadata": {},
   "outputs": [],
   "source": [
    "color = np.random.randint(256,size=(4,3))"
   ]
  },
  {
   "cell_type": "code",
   "execution_count": 76,
   "metadata": {},
   "outputs": [
    {
     "data": {
      "text/plain": [
       "(4, 3)"
      ]
     },
     "execution_count": 76,
     "metadata": {},
     "output_type": "execute_result"
    }
   ],
   "source": [
    "color.shape"
   ]
  },
  {
   "cell_type": "code",
   "execution_count": 77,
   "metadata": {},
   "outputs": [
    {
     "data": {
      "text/plain": [
       "array([177, 194,  16])"
      ]
     },
     "execution_count": 77,
     "metadata": {},
     "output_type": "execute_result"
    }
   ],
   "source": [
    "color[1]"
   ]
  },
  {
   "cell_type": "code",
   "execution_count": 80,
   "metadata": {},
   "outputs": [
    {
     "data": {
      "text/plain": [
       "array([[1., 1., 1.],\n",
       "       [1., 1., 1.],\n",
       "       [1., 1., 1.],\n",
       "       [1., 1., 1.]])"
      ]
     },
     "execution_count": 80,
     "metadata": {},
     "output_type": "execute_result"
    }
   ],
   "source": [
    "a = np.ones((4,3))\n",
    "a"
   ]
  },
  {
   "cell_type": "code",
   "execution_count": 82,
   "metadata": {},
   "outputs": [
    {
     "data": {
      "text/plain": [
       "array([[0., 0., 0.],\n",
       "       [0., 0., 0.],\n",
       "       [0., 0., 0.],\n",
       "       [0., 0., 0.]])"
      ]
     },
     "execution_count": 82,
     "metadata": {},
     "output_type": "execute_result"
    }
   ],
   "source": [
    "b = np.zeros(a.shape)\n",
    "b"
   ]
  },
  {
   "cell_type": "code",
   "execution_count": 83,
   "metadata": {},
   "outputs": [],
   "source": [
    "from heapq import heappush, heappop"
   ]
  },
  {
   "cell_type": "code",
   "execution_count": 84,
   "metadata": {},
   "outputs": [],
   "source": [
    "from abc import ABCMeta, abstractmethod"
   ]
  },
  {
   "cell_type": "code",
   "execution_count": 103,
   "metadata": {},
   "outputs": [],
   "source": [
    "class Node:\n",
    "    def __init__(self, data):\n",
    "        self.score = np.sum(data)\n",
    "\n",
    "    def __lt__(self, b):\n",
    "        return self.score < b.score"
   ]
  },
  {
   "cell_type": "code",
   "execution_count": 104,
   "metadata": {},
   "outputs": [],
   "source": [
    "NodeList = []\n",
    "for i in range(10):\n",
    "    NodeList.append(Node([1, 10+i]))\n",
    "NodeList.append(Node([1, 10+3]))\n",
    "NodeList.append(Node([1, 1]))"
   ]
  },
  {
   "cell_type": "code",
   "execution_count": 105,
   "metadata": {},
   "outputs": [
    {
     "name": "stdout",
     "output_type": "stream",
     "text": [
      "11\n",
      "12\n",
      "13\n",
      "14\n",
      "15\n",
      "16\n",
      "17\n",
      "18\n",
      "19\n",
      "20\n",
      "14\n",
      "2\n"
     ]
    }
   ],
   "source": [
    "heap_list = []\n",
    "for node in NodeList:\n",
    "    heappush(heap_list, node)\n",
    "    print(node.score)"
   ]
  },
  {
   "cell_type": "code",
   "execution_count": 115,
   "metadata": {},
   "outputs": [],
   "source": [
    "while heap_list:\n",
    "    node = heappop(heap_list)\n",
    "    print(node.score)"
   ]
  },
  {
   "cell_type": "code",
   "execution_count": 15,
   "metadata": {},
   "outputs": [],
   "source": []
  },
  {
   "cell_type": "code",
   "execution_count": 16,
   "metadata": {},
   "outputs": [],
   "source": [
    "#Map of integers to object type\n",
    "IDX_TO_OBJECT = {\n",
    "        0   :   \"free\",\n",
    "        1   :   \"obstacle\",\n",
    "        2   :   \"unseen\",\n",
    "        3   :   \"goal\",\n",
    "        4   :   \"agent\",\n",
    "        5   :   \"dynamic obstacle\",\n",
    "}\n",
    "\n",
    "OBJECT_TO_IDX = dict(zip(IDX_TO_OBJECT.values(), IDX_TO_OBJECT.keys()))"
   ]
  },
  {
   "cell_type": "code",
   "execution_count": 17,
   "metadata": {},
   "outputs": [],
   "source": [
    "object_to_cost = {\n",
    "          \"free\"     : 0,\n",
    "          \"obstacle\" : 10,\n",
    "          \"agent\"    : 15,\n",
    "          \"dynamic obstacle\" : 20,\n",
    "          \"unseen\"   : 10,\n",
    "          \"goal\"     : 0,\n",
    "      }"
   ]
  },
  {
   "cell_type": "code",
   "execution_count": 18,
   "metadata": {},
   "outputs": [],
   "source": [
    "map = np.array([[0,1,0,0,0,0],\n",
    "                [0,1,1,0,1,0],\n",
    "                [0,0,0,0,1,0],\n",
    "                [0,1,0,1,0,0],\n",
    "                [0,0,0,0,0,0]])"
   ]
  },
  {
   "cell_type": "code",
   "execution_count": 19,
   "metadata": {},
   "outputs": [],
   "source": [
    "cost_map = np.zeros(map.shape)\n",
    "for keys in IDX_TO_OBJECT:\n",
    "    cost_map[map==keys] = object_to_cost[IDX_TO_OBJECT[keys]]"
   ]
  },
  {
   "cell_type": "code",
   "execution_count": 20,
   "metadata": {},
   "outputs": [
    {
     "data": {
      "text/plain": [
       "array([[0, 1, 0, 0, 0, 0],\n",
       "       [0, 1, 1, 0, 1, 0],\n",
       "       [0, 0, 0, 0, 1, 0],\n",
       "       [0, 1, 0, 1, 0, 0],\n",
       "       [0, 0, 0, 0, 0, 0]])"
      ]
     },
     "execution_count": 20,
     "metadata": {},
     "output_type": "execute_result"
    }
   ],
   "source": [
    "map"
   ]
  },
  {
   "cell_type": "code",
   "execution_count": 194,
   "metadata": {},
   "outputs": [],
   "source": [
    "import numpy as np\n",
    "from heapq import heappush, heappop\n",
    "\n",
    "\n",
    "class Node(object):\n",
    "    \"\"\"Searching node\"\"\"\n",
    "    def __init__(self, pose, g_value, h_value):\n",
    "        self.pose = pose\n",
    "        self.x = pose[0]\n",
    "        self.y = pose[1]\n",
    "        self.g_value = g_value\n",
    "        self.f_value = g_value + h_value\n",
    "        self.father = None\n",
    "\n",
    "    def __lt__(self, b):\n",
    "            # Heap will always pop the item with smallest f_value\n",
    "        return self.f_value < b.f_value\n",
    "class A_star():\n",
    "\n",
    "    def __init__(self, map_, idx_to_object):\n",
    "        '''\n",
    "          @param [array] map : static map with obstacle information.\n",
    "        '''\n",
    "        self.map = map_\n",
    "        self.row = None\n",
    "        self.col = None\n",
    "        self.open_list = []\n",
    "        self.cost_map = None \n",
    "        self.closed_map = None\n",
    "        self.path = None\n",
    "        self.step_cost = 1\n",
    "        self.idx_to_object = idx_to_object\n",
    "        self.object_to_idx = dict(zip(self.idx_to_object.values(), self.idx_to_object.keys()))\n",
    "        self.object_to_cost = {\n",
    "          \"free\"     : 0,\n",
    "          \"obstacle\" : 10,\n",
    "          \"agent\"    : 15,\n",
    "          \"dynamic obstacle\" : 20,\n",
    "          \"unseen\"   : 10,\n",
    "          \"goal\"     : 0,\n",
    "      }\n",
    "        self.reset()\n",
    "\n",
    "    def reset(self):\n",
    "        self.open_list = []\n",
    "        self.compute_cost_map(self.map)\n",
    "        #Set the obstacle's pose in closed_map to 1 because we do not want to expand it.\n",
    "        self.closed_map = np.zeros(self.map.shape)\n",
    "        self.closed_map[self.map==self.object_to_idx[\"obstacle\"]] = 1\n",
    "        self.closed_map[self.map==self.object_to_idx[\"agent\"]] = 1\n",
    "        self.closed_map[self.map==self.object_to_idx[\"dynamic obstacle\"]] = 1\n",
    "        \n",
    "    def set_map(self, map_):\n",
    "        self.map = map_\n",
    "\n",
    "    def compute_cost_map(self, map_):\n",
    "        self.row = map_.shape[0]\n",
    "        self.col = map_.shape[1]\n",
    "        self.cost_map = np.zeros(map_.shape)\n",
    "        for idx in self.idx_to_object:\n",
    "            self.cost_map[map_==idx] = self.object_to_cost[self.idx_to_object[idx]]\n",
    "\n",
    "    def plan(self, pose, goal, debug = False):\n",
    "        '''\n",
    "          @param [2x1 array] pose & goal\n",
    "        '''\n",
    "        if not self.valid_goal(goal):\n",
    "            return None\n",
    "        start_node = Node(pose, g_value=0, h_value=self.estimate_heuristic(pose, goal))\n",
    "        heappush(self.open_list, start_node)\n",
    "        while self.open_list:\n",
    "            current_node = heappop(self.open_list)\n",
    "            if debug:\n",
    "                print(\"******************************\")\n",
    "                print(\"current node: \", current_node.pose)\n",
    "            if self.goal_reached(current_node.pose, goal):\n",
    "                self.path = self.reconstruct_path(current_node)\n",
    "                self.reset()\n",
    "                return self.path\n",
    "            self.closed_map[current_node.y, current_node.x] = -1\n",
    "\n",
    "            successor_list = self.get_successor(current_node, goal)\n",
    "            if debug:\n",
    "                print(\"successor: \", [node.pose for node in successor_list])\n",
    "                print(\"f_value: \", [node.f_value for node in successor_list])\n",
    "            if not successor_list:\n",
    "                continue\n",
    "            for node in successor_list:\n",
    "                node.father = current_node\n",
    "                heappush(self.open_list, node)\n",
    "        print(\"can not find a path\")\n",
    "        self.reset()\n",
    "        return None\n",
    "\n",
    "    def estimate_heuristic(self, start, end):\n",
    "        return abs(start[0]-end[0]) + abs(start[1]-end[1])\n",
    "\n",
    "    def goal_reached(self, pose, goal):\n",
    "        return (pose==goal).all()\n",
    "    \n",
    "    def valid_goal(self, goal):\n",
    "        x = goal[0]\n",
    "        y = goal[1]\n",
    "        if x<0 or x>=self.col or y<0 or y>=self.row:\n",
    "            print(\"Goal is out of map\")\n",
    "            return False\n",
    "        if self.map[y,x]!=self.object_to_idx[\"free\"] and self.map[y,x]!=self.object_to_idx[\"goal\"]:\n",
    "            print(\"Goal is occupied!\")\n",
    "            return False\n",
    "        return True\n",
    "        \n",
    "    def reconstruct_path(self, node):\n",
    "        traj = []\n",
    "        traj.append(node.pose)\n",
    "        current_node = node\n",
    "        while current_node.father:\n",
    "            current_node = current_node.father\n",
    "            traj.append(current_node.pose)\n",
    "        traj.reverse()\n",
    "        return traj\n",
    "\n",
    "    def get_successor(self, node, goal):\n",
    "        # return a list of node successors\n",
    "        x_ = node.x\n",
    "        y_ = node.y\n",
    "        pose_list = [ (x_+1,y_), (x_-1,y_), (x_, y_+1), (x_,y_-1) ]\n",
    "        successor_list = []\n",
    "        for x, y in pose_list:\n",
    "            if 0<=x<self.col and 0<=y< self.row and self.closed_map[y,x]==0:\n",
    "                h_value = self.estimate_heuristic([x, y],goal)\n",
    "                g_value = node.g_value+self.step_cost+self.cost_map[y,x]\n",
    "                new_node = Node(np.array([x,y]), g_value, h_value)\n",
    "                successor_list.append(new_node)\n",
    "                self.closed_map[y,x]=-1\n",
    "        return successor_list\n",
    "    \n",
    "    def render_path(self, cost_map, path):\n",
    "        cmap = cost_map.copy()\n",
    "        for pose in path:\n",
    "            cmap[pose[1],pose[0]] = 1\n",
    "        print(cmap)\n",
    "        return cmap\n"
   ]
  },
  {
   "cell_type": "code",
   "execution_count": null,
   "metadata": {},
   "outputs": [],
   "source": []
  },
  {
   "cell_type": "code",
   "execution_count": 195,
   "metadata": {},
   "outputs": [
    {
     "name": "stdout",
     "output_type": "stream",
     "text": [
      "[[ 0. 10.  0.  0.  0.  0.]\n",
      " [ 0. 10. 10.  0. 10.  0.]\n",
      " [ 0.  0.  0.  0. 10.  0.]\n",
      " [ 0. 10.  0. 10.  0.  0.]\n",
      " [ 0.  0.  0.  0.  0.  0.]]\n"
     ]
    }
   ],
   "source": [
    "planner = A_star(map, IDX_TO_OBJECT)\n",
    "print(planner.cost_map)"
   ]
  },
  {
   "cell_type": "code",
   "execution_count": 196,
   "metadata": {},
   "outputs": [
    {
     "name": "stdout",
     "output_type": "stream",
     "text": [
      "[[ 1. 10.  0.  0.  0.  0.]\n",
      " [ 1. 10. 10.  0. 10.  0.]\n",
      " [ 1.  1.  1.  0. 10.  0.]\n",
      " [ 0. 10.  1. 10.  0.  0.]\n",
      " [ 0.  0.  1.  1.  1.  1.]]\n"
     ]
    },
    {
     "data": {
      "text/plain": [
       "array([[ 1., 10.,  0.,  0.,  0.,  0.],\n",
       "       [ 1., 10., 10.,  0., 10.,  0.],\n",
       "       [ 1.,  1.,  1.,  0., 10.,  0.],\n",
       "       [ 0., 10.,  1., 10.,  0.,  0.],\n",
       "       [ 0.,  0.,  1.,  1.,  1.,  1.]])"
      ]
     },
     "execution_count": 196,
     "metadata": {},
     "output_type": "execute_result"
    }
   ],
   "source": [
    "path = planner.plan(np.array([0,0]), np.array([5,4]))\n",
    "planner.render_path(planner.cost_map, path)"
   ]
  },
  {
   "cell_type": "code",
   "execution_count": null,
   "metadata": {},
   "outputs": [],
   "source": []
  },
  {
   "cell_type": "code",
   "execution_count": null,
   "metadata": {},
   "outputs": [],
   "source": []
  }
 ],
 "metadata": {
  "kernelspec": {
   "display_name": "Python 3",
   "language": "python",
   "name": "python3"
  },
  "language_info": {
   "codemirror_mode": {
    "name": "ipython",
    "version": 3
   },
   "file_extension": ".py",
   "mimetype": "text/x-python",
   "name": "python",
   "nbconvert_exporter": "python",
   "pygments_lexer": "ipython3",
   "version": "3.6.9"
  }
 },
 "nbformat": 4,
 "nbformat_minor": 2
}
