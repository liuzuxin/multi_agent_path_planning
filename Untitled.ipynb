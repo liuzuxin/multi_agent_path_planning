{
 "cells": [
  {
   "cell_type": "code",
   "execution_count": 5,
   "metadata": {},
   "outputs": [],
   "source": [
    "import yaml\n",
    "import matplotlib\n",
    "# matplotlib.use(\"Agg\")\n",
    "from matplotlib.patches import Circle, Rectangle, Arrow\n",
    "from matplotlib.collections import PatchCollection\n",
    "import matplotlib.pyplot as plt\n",
    "import numpy as np\n",
    "from matplotlib import animation\n",
    "import matplotlib.animation as manimation\n",
    "from matplotlib.widgets import Button\n",
    "import matplotlib.widgets\n",
    "import argparse\n",
    "import math\n",
    "Colors = ['orange', 'blue', 'green']"
   ]
  },
  {
   "cell_type": "code",
   "execution_count": 6,
   "metadata": {},
   "outputs": [],
   "source": [
    "map_file = \"cbs/input.yaml\"\n",
    "schedule_file = \"cbs/output.yaml\"\n",
    "with open(map_file) as map_file:\n",
    "    map = yaml.load(map_file, Loader=yaml.FullLoader)\n",
    "\n",
    "with open(schedule_file) as states_file:\n",
    "    schedule = yaml.load(states_file, Loader=yaml.FullLoader)"
   ]
  },
  {
   "cell_type": "code",
   "execution_count": 9,
   "metadata": {},
   "outputs": [
    {
     "data": {
      "text/plain": [
       "{'agent0': [{'t': 0, 'x': 0, 'y': 0},\n",
       "  {'t': 1, 'x': 0, 'y': 0},\n",
       "  {'t': 2, 'x': 1, 'y': 0},\n",
       "  {'t': 3, 'x': 2, 'y': 0}],\n",
       " 'agent1': [{'t': 0, 'x': 2, 'y': 0},\n",
       "  {'t': 1, 'x': 1, 'y': 0},\n",
       "  {'t': 2, 'x': 1, 'y': 1},\n",
       "  {'t': 3, 'x': 1, 'y': 0},\n",
       "  {'t': 4, 'x': 0, 'y': 0}]}"
      ]
     },
     "execution_count": 9,
     "metadata": {},
     "output_type": "execute_result"
    }
   ],
   "source": [
    "schedule[\"schedule\"]"
   ]
  },
  {
   "cell_type": "code",
   "execution_count": 10,
   "metadata": {},
   "outputs": [
    {
     "data": {
      "text/plain": [
       "{'agents': [{'start': [0, 0], 'goal': [2, 0], 'name': 'agent0'},\n",
       "  {'start': [2, 0], 'goal': [0, 0], 'name': 'agent1'}],\n",
       " 'map': {'dimensions': [3, 3], 'obstacles': [(0, 1), (2, 1)]}}"
      ]
     },
     "execution_count": 10,
     "metadata": {},
     "output_type": "execute_result"
    }
   ],
   "source": [
    "map"
   ]
  },
  {
   "cell_type": "code",
   "execution_count": 11,
   "metadata": {},
   "outputs": [],
   "source": [
    "cb_schedule = schedule[\"schedule\"]"
   ]
  },
  {
   "cell_type": "code",
   "execution_count": 24,
   "metadata": {},
   "outputs": [],
   "source": [
    "def getState(t, d):\n",
    "    idx = 0\n",
    "    while idx < len(d) and d[idx][\"t\"] < t:\n",
    "        idx += 1\n",
    "    if idx == 0:\n",
    "        return np.array([float(d[0][\"x\"]), float(d[0][\"y\"])])\n",
    "    elif idx < len(d):\n",
    "        posLast = np.array([float(d[idx-1][\"x\"]), float(d[idx-1][\"y\"])])\n",
    "        posNext = np.array([float(d[idx][\"x\"]), float(d[idx][\"y\"])])\n",
    "    else:\n",
    "        return np.array([float(d[-1][\"x\"]), float(d[-1][\"y\"])])\n",
    "    dt = d[idx][\"t\"] - d[idx-1][\"t\"]\n",
    "    t = (t - d[idx-1][\"t\"]) / dt\n",
    "    pos = (posNext - posLast) * t + posLast\n",
    "    return pos"
   ]
  },
  {
   "cell_type": "code",
   "execution_count": 25,
   "metadata": {},
   "outputs": [
    {
     "name": "stdout",
     "output_type": "stream",
     "text": [
      "agent0  :  [{'t': 0, 'x': 0, 'y': 0}, {'t': 1, 'x': 0, 'y': 0}, {'t': 2, 'x': 1, 'y': 0}, {'t': 3, 'x': 2, 'y': 0}]\n",
      "agent1  :  [{'t': 0, 'x': 2, 'y': 0}, {'t': 1, 'x': 1, 'y': 0}, {'t': 2, 'x': 1, 'y': 1}, {'t': 3, 'x': 1, 'y': 0}, {'t': 4, 'x': 0, 'y': 0}]\n"
     ]
    }
   ],
   "source": [
    "steps=0\n",
    "for agent_name, trajectories in cb_schedule.items():\n",
    "    #pos = getState(i, agent)\n",
    "    #p = (pos[0], pos[1])\n",
    "    steps=max(steps, trajectories[-1][\"t\"])\n",
    "    print(agent_name,\" : \",trajectories)"
   ]
  },
  {
   "cell_type": "code",
   "execution_count": 29,
   "metadata": {},
   "outputs": [
    {
     "name": "stdout",
     "output_type": "stream",
     "text": [
      "step 0 , agent agent0, pos [0. 0.]\n",
      "step 0 , agent agent1, pos [2. 0.]\n",
      "step 1 , agent agent0, pos [0. 0.]\n",
      "step 1 , agent agent1, pos [1. 0.]\n",
      "step 2 , agent agent0, pos [1. 0.]\n",
      "step 2 , agent agent1, pos [1. 1.]\n",
      "step 3 , agent agent0, pos [2. 0.]\n",
      "step 3 , agent agent1, pos [1. 0.]\n",
      "step 4 , agent agent0, pos [2. 0.]\n",
      "step 4 , agent agent1, pos [0. 0.]\n"
     ]
    }
   ],
   "source": [
    "pos = dict()\n",
    "for step in range(steps+1):\n",
    "    for agent_name, trajectories in cb_schedule.items():\n",
    "        pos[agent_name]=getState(step, trajectories)\n",
    "        print(\"step {} , agent {}, pos {}\".format(step, agent_name, pos[agent_name]))"
   ]
  },
  {
   "cell_type": "code",
   "execution_count": 30,
   "metadata": {},
   "outputs": [
    {
     "data": {
      "text/plain": [
       "{'agent0': array([2., 0.]), 'agent1': array([0., 0.])}"
      ]
     },
     "execution_count": 30,
     "metadata": {},
     "output_type": "execute_result"
    }
   ],
   "source": [
    "pos"
   ]
  },
  {
   "cell_type": "code",
   "execution_count": 32,
   "metadata": {},
   "outputs": [
    {
     "name": "stdout",
     "output_type": "stream",
     "text": [
      "agent0 [2. 0.]\n",
      "agent1 [0. 0.]\n"
     ]
    }
   ],
   "source": [
    "for agent_name, p in pos.items():\n",
    "    print(agent_name, p)"
   ]
  },
  {
   "cell_type": "code",
   "execution_count": null,
   "metadata": {},
   "outputs": [],
   "source": []
  }
 ],
 "metadata": {
  "kernelspec": {
   "display_name": "Python 3",
   "language": "python",
   "name": "python3"
  },
  "language_info": {
   "codemirror_mode": {
    "name": "ipython",
    "version": 3
   },
   "file_extension": ".py",
   "mimetype": "text/x-python",
   "name": "python",
   "nbconvert_exporter": "python",
   "pygments_lexer": "ipython3",
   "version": "3.6.9"
  }
 },
 "nbformat": 4,
 "nbformat_minor": 2
}
