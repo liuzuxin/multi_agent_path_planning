{
 "cells": [
  {
   "cell_type": "code",
   "execution_count": 1,
   "metadata": {},
   "outputs": [],
   "source": [
    "#!/usr/bin/env python3\n",
    "import yaml\n",
    "import matplotlib\n",
    "import matplotlib.pyplot as plt\n",
    "import numpy as np\n",
    "import argparse\n",
    "import math\n",
    "import planningEnv\n",
    "import GridEnv\n",
    "import time\n",
    "from window import *\n",
    "\n",
    "\n",
    "\n",
    "\n"
   ]
  },
  {
   "cell_type": "code",
   "execution_count": 5,
   "metadata": {},
   "outputs": [],
   "source": [
    "with open(\"cbs/input.yaml\") as map_file:\n",
    "    map = yaml.load(map_file, Loader=yaml.FullLoader)\n",
    "\n",
    "with open(\"cbs/output.yaml\") as states_file:\n",
    "    schedule = yaml.load(states_file, Loader=yaml.FullLoader)[\"schedule\"]\n",
    "\n",
    "\n",
    "   #Get the maximum steps in the output solution file\n",
    "max_step = 0\n",
    "for agent_name, trajectories in schedule.items():\n",
    "    max_step = max(max_step, trajectories[-1][\"t\"])\n",
    "\n",
    "def getState(t, d):\n",
    "    idx = 0\n",
    "    while idx < len(d) and d[idx][\"t\"] < t:\n",
    "        idx += 1\n",
    "    if idx == 0:\n",
    "        return np.array([float(d[0][\"x\"]), float(d[0][\"y\"])])\n",
    "    elif idx < len(d):\n",
    "        return np.array([float(d[idx][\"x\"]), float(d[idx][\"y\"])])\n",
    "    else:\n",
    "        return np.array([float(d[-1][\"x\"]), float(d[-1][\"y\"])])\n"
   ]
  },
  {
   "cell_type": "code",
   "execution_count": 8,
   "metadata": {},
   "outputs": [
    {
     "name": "stdout",
     "output_type": "stream",
     "text": [
      "agent0 [{'t': 0, 'x': 0, 'y': 0}, {'t': 1, 'x': 0, 'y': 0}, {'t': 2, 'x': 1, 'y': 0}, {'t': 3, 'x': 2, 'y': 0}]\n",
      "agent1 [{'t': 0, 'x': 2, 'y': 0}, {'t': 1, 'x': 1, 'y': 0}, {'t': 2, 'x': 1, 'y': 1}, {'t': 3, 'x': 1, 'y': 0}, {'t': 4, 'x': 0, 'y': 0}]\n"
     ]
    }
   ],
   "source": [
    "traj = {}\n",
    "poses = {}\n",
    "for agent_name, trajectories in schedule.items():\n",
    "    #poses[agent_name] = getState(2, trajectories)\n",
    "    print(agent_name, trajectories)"
   ]
  },
  {
   "cell_type": "code",
   "execution_count": null,
   "metadata": {},
   "outputs": [],
   "source": []
  }
 ],
 "metadata": {
  "kernelspec": {
   "display_name": "Python 3",
   "language": "python",
   "name": "python3"
  },
  "language_info": {
   "codemirror_mode": {
    "name": "ipython",
    "version": 3
   },
   "file_extension": ".py",
   "mimetype": "text/x-python",
   "name": "python",
   "nbconvert_exporter": "python",
   "pygments_lexer": "ipython3",
   "version": "3.6.9"
  }
 },
 "nbformat": 4,
 "nbformat_minor": 2
}
